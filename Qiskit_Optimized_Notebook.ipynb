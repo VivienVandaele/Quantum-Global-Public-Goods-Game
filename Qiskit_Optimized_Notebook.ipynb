{
 "cells": [
  {
   "cell_type": "code",
   "execution_count": 91,
   "metadata": {},
   "outputs": [],
   "source": [
    "from qiskit import *\n",
    "import numpy as np\n",
    "from functools import partial\n",
    "from qiskit.aqua.components.optimizers import COBYLA\n",
    "from scipy.optimize import minimize, fmin_slsqp\n",
    "import pandas as pd\n",
    "import matplotlib.pyplot as plt\n",
    "%matplotlib inline"
   ]
  },
  {
   "cell_type": "code",
   "execution_count": 35,
   "metadata": {},
   "outputs": [],
   "source": [
    "theta = np.array([0.5, np.pi*2, 1.4, 1/3, np.pi/2, 1.3, 1.4, 0.22, 1.2, 0.99, 1.0, 0.23, 0.14, 0.90, np.pi])\n",
    "\n",
    "def run_quantum_circ(n, theta):\n",
    "    '''\n",
    "    This creates a quantum circuit with n qubits. \n",
    "    '''\n",
    "    qr = QuantumRegister(n)\n",
    "    cr = ClassicalRegister(n)\n",
    "    circuit = QuantumCircuit(qr, cr)\n",
    "    \n",
    "    #Applies Hadamard Gate to first \n",
    "    circuit.h(0)\n",
    "    \n",
    "    #Entangles the qubits\n",
    "    for i in range(n-1):\n",
    "        circuit.cx(i, i+1)\n",
    "        \n",
    "    # For ease of understanding \n",
    "    circuit.barrier()\n",
    "    \n",
    "    # Applying U3 gates -- later\n",
    "    i = 0\n",
    "    for i in range(n):\n",
    "        circuit.u3(theta[3*i], theta[(3*i)+1], theta[(3*i)+2], i)\n",
    "    \n",
    "    circuit.barrier()\n",
    "    \n",
    "    # Unentangling qubits \n",
    "    for i in reversed(range(n)):\n",
    "        if i-1==-1:\n",
    "            break\n",
    "        else:\n",
    "            circuit.cx(i-1, i)\n",
    "            \n",
    "    circuit.h(0)   \n",
    "    circuit.barrier()\n",
    "            \n",
    "    # Measuring the values \n",
    "    for i in range(n-1):\n",
    "        circuit.measure(i, i)\n",
    "    \n",
    "    backend = Aer.get_backend('qasm_simulator')\n",
    "    result = execute(circuit, backend=backend, shots=10000).result()\n",
    "    return result.get_counts()"
   ]
  },
  {
   "cell_type": "code",
   "execution_count": 36,
   "metadata": {},
   "outputs": [],
   "source": [
    "theta_c = np.array([np.pi*2, np.pi/2, 0.22, 1.0, 0.90])\n",
    "\n",
    "def run_classical_circ(n, theta):\n",
    "    '''\n",
    "    This creates a quantum circuit with n qubits. \n",
    "    '''\n",
    "    qr = QuantumRegister(n)\n",
    "    cr = ClassicalRegister(n)\n",
    "    circuit = QuantumCircuit(qr, cr)\n",
    "    \n",
    "        \n",
    "    # For ease of understanding \n",
    "    circuit.barrier()\n",
    "    \n",
    "    # Applying U3 gates -- later\n",
    "    i = 0\n",
    "    for i in range(n):\n",
    "        circuit.u2(theta[i], 0, i)\n",
    "      \n",
    "    circuit.barrier()\n",
    "            \n",
    "    # Measuring the values \n",
    "    for i in range(n-1):\n",
    "        circuit.measure(i, i)\n",
    "    \n",
    "    backend = Aer.get_backend('qasm_simulator')\n",
    "    result = execute(circuit, backend=backend, shots=10000).result()\n",
    "    return result.get_counts()"
   ]
  },
  {
   "cell_type": "code",
   "execution_count": 37,
   "metadata": {},
   "outputs": [],
   "source": [
    "# Translate from dictionary to sorted values. \n",
    "def dic_to_vec(dic):\n",
    "    '''\n",
    "    Converts to dictionary outputted by the quantum/classical circuit to a 2^n dimensional (dim = 32) vector. \n",
    "    '''\n",
    "    scores = np.zeros(32)\n",
    "    num_shots = 10000\n",
    "    for key in dic.keys():\n",
    "        i = int(key,2)\n",
    "        scores[i] = dic[key]/num_shots\n",
    "    return scores"
   ]
  },
  {
   "cell_type": "code",
   "execution_count": 38,
   "metadata": {},
   "outputs": [],
   "source": [
    "# The Payoff matrix -- made it here at random\n",
    "v1 = np.random.rand(5,1)*np.random.rand(1)\n",
    "v2 = np.random.rand(1,32)\n",
    "payoff_mat = np.matmul(v1,v2)"
   ]
  },
  {
   "cell_type": "code",
   "execution_count": 39,
   "metadata": {},
   "outputs": [],
   "source": [
    "def payoff_finder(result, payoff):\n",
    "    '''\n",
    "    Input: results from quantum/classical calc (32x1), payoff matrix.  \n",
    "    Output: payoff matrix for that particular \n",
    "    '''\n",
    "    return np.matmul(payoff, result)"
   ]
  },
  {
   "cell_type": "code",
   "execution_count": 40,
   "metadata": {},
   "outputs": [],
   "source": [
    "def quantum_cost_function(n, rand_payoff_mat, theta):\n",
    "    '''\n",
    "    Input: number of qubits, initial values of theta, the payoff matrix you've generated\n",
    "    Output: a singular number that represents how large the difference between the standard deviation\n",
    "            and L1 norm. \n",
    "    '''\n",
    "    \n",
    "    # Runs the quantum circuit and returns a dictionary of values. \n",
    "    dic = run_quantum_circ(n, theta)\n",
    "    vec = dic_to_vec(dic)\n",
    "    payoff_vec = payoff_finder(vec, rand_payoff_mat)\n",
    "    val = np.linalg.norm(payoff_vec, ord = 1) - np.std(payoff_vec)\n",
    "    return -val\n",
    "\n",
    "#quantum_cost_function(5,theta,payoff_mat)"
   ]
  },
  {
   "cell_type": "code",
   "execution_count": 41,
   "metadata": {},
   "outputs": [],
   "source": [
    "def classical_cost_function(n, rand_payoff_mat, theta):\n",
    "    '''\n",
    "    Input: number of qubits, initial values of theta, the payoff matrix you've generated\n",
    "    Output: a singular number that represents how large the difference between the standard deviation\n",
    "            and L1 norm. \n",
    "    '''\n",
    "    dic = run_classical_circ(n, theta)\n",
    "    vec = dic_to_vec(dic)\n",
    "    payoff_vec = payoff_finder(vec, rand_payoff_mat)\n",
    "    val = np.linalg.norm(payoff_vec, ord = 1) - np.std(payoff_vec)\n",
    "    return -val"
   ]
  },
  {
   "cell_type": "code",
   "execution_count": 44,
   "metadata": {},
   "outputs": [],
   "source": [
    "vals = []\n",
    "def callback(res):\n",
    "    params.append(res)\n",
    "\n",
    "def callback_classic(res):\n",
    "    params_c.append(res)"
   ]
  },
  {
   "cell_type": "code",
   "execution_count": 69,
   "metadata": {},
   "outputs": [],
   "source": [
    "#backup_params = params"
   ]
  },
  {
   "cell_type": "code",
   "execution_count": 106,
   "metadata": {},
   "outputs": [
    {
     "data": {
      "text/plain": [
       " final_simplex: (array([[0.40684597, 4.56960584, 1.4152666 , 0.30509104, 1.91866002,\n",
       "        1.34651168, 3.22887869, 0.22074326, 1.30420734, 0.06131109,\n",
       "        0.96735608, 0.23031093, 0.10713509, 1.04852028, 3.1527454 ],\n",
       "       [0.40684597, 4.56960584, 1.4152666 , 0.30509104, 1.91866002,\n",
       "        1.34651168, 3.22887869, 0.22074326, 1.30420734, 0.06131109,\n",
       "        0.96735608, 0.23031093, 0.10713509, 1.04852028, 3.1527454 ],\n",
       "       [0.40684597, 4.56960584, 1.4152666 , 0.30509104, 1.91866002,\n",
       "        1.34651168, 3.22887869, 0.22074326, 1.30420734, 0.06131109,\n",
       "        0.96735608, 0.23031093, 0.10713509, 1.04852028, 3.1527454 ],\n",
       "       [0.40684597, 4.56960584, 1.4152666 , 0.30509104, 1.91866002,\n",
       "        1.34651168, 3.22887869, 0.22074326, 1.30420734, 0.06131109,\n",
       "        0.96735608, 0.23031093, 0.10713509, 1.04852028, 3.1527454 ],\n",
       "       [0.40684597, 4.56960584, 1.4152666 , 0.30509104, 1.91866002,\n",
       "        1.34651168, 3.22887869, 0.22074326, 1.30420734, 0.06131109,\n",
       "        0.96735608, 0.23031093, 0.10713509, 1.04852028, 3.1527454 ],\n",
       "       [0.40684597, 4.56960584, 1.4152666 , 0.30509104, 1.91866002,\n",
       "        1.34651168, 3.22887869, 0.22074326, 1.30420734, 0.06131109,\n",
       "        0.96735608, 0.23031093, 0.10713509, 1.04852028, 3.1527454 ],\n",
       "       [0.40684597, 4.56960584, 1.4152666 , 0.30509104, 1.91866002,\n",
       "        1.34651168, 3.22887869, 0.22074326, 1.30420734, 0.06131109,\n",
       "        0.96735608, 0.23031093, 0.10713509, 1.04852028, 3.1527454 ],\n",
       "       [0.40684597, 4.56960584, 1.4152666 , 0.30509104, 1.91866002,\n",
       "        1.34651168, 3.22887869, 0.22074326, 1.30420734, 0.06131109,\n",
       "        0.96735608, 0.23031093, 0.10713509, 1.04852028, 3.1527454 ],\n",
       "       [0.40684597, 4.56960584, 1.4152666 , 0.30509104, 1.91866002,\n",
       "        1.34651168, 3.22887869, 0.22074326, 1.30420734, 0.06131109,\n",
       "        0.96735608, 0.23031093, 0.10713509, 1.04852028, 3.1527454 ],\n",
       "       [0.40684597, 4.56960584, 1.4152666 , 0.30509104, 1.91866002,\n",
       "        1.34651168, 3.22887869, 0.22074326, 1.30420734, 0.06131109,\n",
       "        0.96735608, 0.23031093, 0.10713509, 1.04852028, 3.1527454 ],\n",
       "       [0.40684597, 4.56960584, 1.4152666 , 0.30509104, 1.91866002,\n",
       "        1.34651168, 3.22887869, 0.22074326, 1.30420734, 0.06131109,\n",
       "        0.96735608, 0.23031093, 0.10713509, 1.04852028, 3.1527454 ],\n",
       "       [0.40684597, 4.56960584, 1.4152666 , 0.30509104, 1.91866002,\n",
       "        1.34651168, 3.22887869, 0.22074326, 1.30420734, 0.06131109,\n",
       "        0.96735608, 0.23031093, 0.10713509, 1.04852028, 3.1527454 ],\n",
       "       [0.40684597, 4.56960584, 1.4152666 , 0.30509104, 1.91866002,\n",
       "        1.34651168, 3.22887869, 0.22074326, 1.30420734, 0.06131109,\n",
       "        0.96735608, 0.23031093, 0.10713509, 1.04852028, 3.1527454 ],\n",
       "       [0.40684597, 4.56960584, 1.4152666 , 0.30509104, 1.91866002,\n",
       "        1.34651168, 3.22887869, 0.22074326, 1.30420734, 0.06131109,\n",
       "        0.96735608, 0.23031093, 0.10713509, 1.04852028, 3.1527454 ],\n",
       "       [0.40684597, 4.56960584, 1.4152666 , 0.30509104, 1.91866002,\n",
       "        1.34651168, 3.22887869, 0.22074326, 1.30420734, 0.06131109,\n",
       "        0.96735608, 0.23031093, 0.10713509, 1.04852028, 3.1527454 ],\n",
       "       [0.40684597, 4.56960584, 1.4152666 , 0.30509104, 1.91866002,\n",
       "        1.34651168, 3.22887869, 0.22074326, 1.30420734, 0.06131109,\n",
       "        0.96735608, 0.23031093, 0.10713509, 1.04852028, 3.1527454 ]]), array([-1.64544765, -1.64371564, -1.6436282 , -1.64348888, -1.64348479,\n",
       "       -1.64347206, -1.64346228, -1.64340834, -1.64334392, -1.64329397,\n",
       "       -1.64316623, -1.64308035, -1.64306512, -1.64301019, -1.64298852,\n",
       "       -1.64285322]))\n",
       "           fun: -1.645447650863769\n",
       "       message: 'Maximum number of function evaluations has been exceeded.'\n",
       "          nfev: 3000\n",
       "           nit: 1137\n",
       "        status: 1\n",
       "       success: False\n",
       "             x: array([0.40684597, 4.56960584, 1.4152666 , 0.30509104, 1.91866002,\n",
       "       1.34651168, 3.22887869, 0.22074326, 1.30420734, 0.06131109,\n",
       "       0.96735608, 0.23031093, 0.10713509, 1.04852028, 3.1527454 ])"
      ]
     },
     "execution_count": 106,
     "metadata": {},
     "output_type": "execute_result"
    }
   ],
   "source": [
    "params = []\n",
    "qcost = partial(quantum_cost_function, 5, payoff_mat)\n",
    "results = minimize(qcost, theta, method='Nelder-Mead', callback = callback)#, tol=1e-9)\n",
    "results"
   ]
  },
  {
   "cell_type": "code",
   "execution_count": 105,
   "metadata": {},
   "outputs": [
    {
     "data": {
      "text/plain": [
       " final_simplex: (array([[6.00778833, 1.60203316, 0.22423482, 0.9844972 , 0.93505427],\n",
       "       [6.00778833, 1.60203316, 0.22423482, 0.9844972 , 0.93505427],\n",
       "       [6.00778833, 1.60203316, 0.22423482, 0.9844972 , 0.93505427],\n",
       "       [6.00778833, 1.60203316, 0.22423482, 0.9844972 , 0.93505427],\n",
       "       [6.00778833, 1.60203316, 0.22423482, 0.9844972 , 0.93505427],\n",
       "       [6.00778833, 1.60203316, 0.22423482, 0.9844972 , 0.93505427]]), array([-1.16576055, -1.16134992, -1.1603673 , -1.15739279, -1.15534722,\n",
       "       -1.15413337]))\n",
       "           fun: -1.1657605455243454\n",
       "       message: 'Maximum number of function evaluations has been exceeded.'\n",
       "          nfev: 1000\n",
       "           nit: 370\n",
       "        status: 1\n",
       "       success: False\n",
       "             x: array([6.00778833, 1.60203316, 0.22423482, 0.9844972 , 0.93505427])"
      ]
     },
     "execution_count": 105,
     "metadata": {},
     "output_type": "execute_result"
    }
   ],
   "source": [
    "params_c = []\n",
    "ccost = partial(classical_cost_function, 5, payoff_mat)\n",
    "results_c = minimize(ccost, theta_c, method='Nelder-Mead', callback = callback_classic)\n",
    "results_c"
   ]
  },
  {
   "cell_type": "code",
   "execution_count": 108,
   "metadata": {},
   "outputs": [],
   "source": [
    "vals = []\n",
    "for param in params:\n",
    "    vals.append(0-quantum_cost_function(5, payoff_mat, param))\n",
    "vals_c = []\n",
    "for param in params_c:\n",
    "    vals_c.append(0-classical_cost_function(5, payoff_mat, param))\n"
   ]
  },
  {
   "cell_type": "code",
   "execution_count": 120,
   "metadata": {},
   "outputs": [],
   "source": [
    "max_c = np.asarray(vals_c).max()\n",
    "max_q = np.asarray(vals).max()"
   ]
  },
  {
   "cell_type": "code",
   "execution_count": 132,
   "metadata": {},
   "outputs": [
    {
     "data": {
      "image/png": "[encoded data removed]",
      "text/plain": [
       "<Figure size 432x288 with 1 Axes>"
      ]
     },
     "metadata": {},
     "output_type": "display_data"
    }
   ],
   "source": [
    "with plt.xkcd():\n",
    "    plt.plot(list(range(len(vals))), vals, label=\"quantum strategy\")\n",
    "    plt.plot(list(range(len(vals_c))), vals_c, color='r', label = \"classical strategy\")\n",
    "    #plt.axhline(max_c, color='r', ls='--', label = 'Maximum quantum value reached')\n",
    "    #plt.axhline(max_q, color='b', ls='--', label = 'Maximum classical value reached')\n",
    "    plt.xlabel('Iterations')\n",
    "    plt.ylabel('Maximization Function')\n",
    "    plt.legend()"
   ]
  },
  {
   "cell_type": "code",
   "execution_count": null,
   "metadata": {},
   "outputs": [],
   "source": []
  }
 ],
 "metadata": {
  "kernelspec": {
   "display_name": "Python 3",
   "language": "python",
   "name": "python3"
  },
  "language_info": {
   "codemirror_mode": {
    "name": "ipython",
    "version": 3
   },
   "file_extension": ".py",
   "mimetype": "text/x-python",
   "name": "python",
   "nbconvert_exporter": "python",
   "pygments_lexer": "ipython3",
   "version": "3.7.3"
  }
 },
 "nbformat": 4,
 "nbformat_minor": 2
}
